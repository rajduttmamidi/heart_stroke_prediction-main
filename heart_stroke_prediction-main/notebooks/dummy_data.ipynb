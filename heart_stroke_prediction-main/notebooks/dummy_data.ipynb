{
 "cells": [
  {
   "cell_type": "code",
   "execution_count": 12,
   "id": "53d60302",
   "metadata": {},
   "outputs": [],
   "source": [
    "import pandas as pd"
   ]
  },
  {
   "cell_type": "code",
   "execution_count": 13,
   "id": "36562718",
   "metadata": {},
   "outputs": [],
   "source": [
    "df=pd.read_csv(\"../data/stroke_prediction_test.csv\")\n",
    "names=pd.read_csv(\"../data/dummy_names.csv\")"
   ]
  },
  {
   "cell_type": "code",
   "execution_count": 14,
   "id": "622b03f2",
   "metadata": {},
   "outputs": [
    {
     "data": {
      "text/plain": [
       "(1687, 3)"
      ]
     },
     "execution_count": 14,
     "metadata": {},
     "output_type": "execute_result"
    }
   ],
   "source": [
    "\n",
    "names.shape"
   ]
  },
  {
   "cell_type": "code",
   "execution_count": 15,
   "id": "20dcc72e",
   "metadata": {},
   "outputs": [
    {
     "data": {
      "text/plain": [
       "(1687, 12)"
      ]
     },
     "execution_count": 15,
     "metadata": {},
     "output_type": "execute_result"
    }
   ],
   "source": [
    "df.shape"
   ]
  },
  {
   "cell_type": "code",
   "execution_count": 16,
   "id": "1733bf51",
   "metadata": {},
   "outputs": [
    {
     "data": {
      "text/plain": [
       "Index(['firstname', ' lastname', ' dob', 'Unnamed: 0', 'id', 'gender', 'age',\n",
       "       'hypertension', 'heart_disease', 'ever_married', 'work_type',\n",
       "       'Residence_type', 'avg_glucose_level', 'bmi', 'smoking_status'],\n",
       "      dtype='object')"
      ]
     },
     "execution_count": 16,
     "metadata": {},
     "output_type": "execute_result"
    }
   ],
   "source": [
    "df_dummy=pd.concat((names,df),axis=1)\n",
    "df_dummy.columns"
   ]
  },
  {
   "cell_type": "code",
   "execution_count": 17,
   "id": "93944882",
   "metadata": {},
   "outputs": [],
   "source": [
    "df_dummy=df_dummy[['id','firstname', ' lastname', 'gender', 'age',\n",
    "       'hypertension', 'heart_disease', 'ever_married', 'work_type',\n",
    "       'Residence_type', 'avg_glucose_level', 'bmi', 'smoking_status']]\n"
   ]
  },
  {
   "cell_type": "code",
   "execution_count": 18,
   "id": "074ea5c0",
   "metadata": {},
   "outputs": [],
   "source": [
    "df_dummy.to_csv(\"../data/stroke_dummy_test.csv\",index=False)"
   ]
  },
  {
   "cell_type": "code",
   "execution_count": null,
   "id": "37fd1ce9",
   "metadata": {},
   "outputs": [],
   "source": []
  }
 ],
 "metadata": {
  "kernelspec": {
   "display_name": "Python 3 (ipykernel)",
   "language": "python",
   "name": "python3"
  },
  "language_info": {
   "codemirror_mode": {
    "name": "ipython",
    "version": 3
   },
   "file_extension": ".py",
   "mimetype": "text/x-python",
   "name": "python",
   "nbconvert_exporter": "python",
   "pygments_lexer": "ipython3",
   "version": "3.9.12"
  }
 },
 "nbformat": 4,
 "nbformat_minor": 5
}
